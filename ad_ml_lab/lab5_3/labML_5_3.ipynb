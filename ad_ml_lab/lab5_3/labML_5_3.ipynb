{
  "nbformat": 4,
  "nbformat_minor": 0,
  "metadata": {
    "colab": {
      "provenance": []
    },
    "kernelspec": {
      "name": "python3",
      "display_name": "Python 3"
    },
    "language_info": {
      "name": "python"
    }
  },
  "cells": [
    {
      "cell_type": "code",
      "source": [
        "import numpy as np\n",
        "import pandas as pd\n",
        "import time\n",
        "from sklearn.model_selection import train_test_split, RandomizedSearchCV\n",
        "from sklearn.ensemble import RandomForestClassifier\n",
        "from sklearn.metrics import accuracy_score\n",
        "from hyperopt import fmin, tpe, hp, Trials, STATUS_OK"
      ],
      "metadata": {
        "id": "TlSqgg7MbqhN"
      },
      "execution_count": 1,
      "outputs": []
    },
    {
      "cell_type": "code",
      "source": [
        "# Загрузка данных из файла\n",
        "data = pd.read_csv('diabetes.csv')\n",
        "\n",
        "# Разделение признаков и целевой переменной\n",
        "X = data.drop('Outcome', axis=1)\n",
        "y = data['Outcome']\n",
        "\n",
        "# Разделение на обучающую и тестовую выборки\n",
        "X_train, X_test, y_train, y_test = train_test_split(X, y, test_size=0.2, random_state=42)\n"
      ],
      "metadata": {
        "id": "QFPw-oGrbruG"
      },
      "execution_count": 2,
      "outputs": []
    },
    {
      "cell_type": "code",
      "source": [
        "# Инициализация модели\n",
        "rf = RandomForestClassifier(random_state=42)\n",
        "\n",
        "# Гиперпараметры для случайного поиска\n",
        "param_dist = {\n",
        "    'n_estimators': np.arange(50, 201, 10),\n",
        "    'max_depth': np.arange(5, 31, 5),\n",
        "    'min_samples_split': np.arange(2, 11, 2),\n",
        "    'min_samples_leaf': np.arange(1, 11, 2),\n",
        "    'bootstrap': [True, False]\n",
        "}\n",
        "\n",
        "# Random Search\n",
        "random_search = RandomizedSearchCV(\n",
        "    estimator=rf,\n",
        "    param_distributions=param_dist,\n",
        "    n_iter=50,\n",
        "    cv=5,\n",
        "    verbose=1,\n",
        "    random_state=42,\n",
        "    n_jobs=-1\n",
        ")\n",
        "\n",
        "# Время и обучение\n",
        "start_time = time.time()\n",
        "random_search.fit(X_train, y_train)\n",
        "end_time = time.time()\n",
        "\n",
        "best_params_random = random_search.best_params_\n",
        "best_score_random = random_search.best_score_\n",
        "time_random = end_time - start_time\n",
        "\n",
        "print(\"RandomSearch лучшие параметры:\", best_params_random)\n",
        "print(\"RandomSearch точность:\", best_score_random)\n",
        "print(\"Время RandomSearch:\", time_random, \"сек\")\n"
      ],
      "metadata": {
        "colab": {
          "base_uri": "https://localhost:8080/"
        },
        "id": "ZNJWuySubuwf",
        "outputId": "2adba85d-5dab-402d-b9db-82c1905e2aaa"
      },
      "execution_count": 3,
      "outputs": [
        {
          "output_type": "stream",
          "name": "stdout",
          "text": [
            "Fitting 5 folds for each of 50 candidates, totalling 250 fits\n",
            "RandomSearch лучшие параметры: {'n_estimators': np.int64(60), 'min_samples_split': np.int64(4), 'min_samples_leaf': np.int64(7), 'max_depth': np.int64(20), 'bootstrap': False}\n",
            "RandomSearch точность: 0.7899107023857124\n",
            "Время RandomSearch: 51.39827370643616 сек\n"
          ]
        }
      ]
    },
    {
      "cell_type": "code",
      "source": [
        "# Пространство поиска\n",
        "space = {\n",
        "    'n_estimators': hp.quniform('n_estimators', 50, 200, 10),\n",
        "    'max_depth': hp.quniform('max_depth', 5, 30, 5),\n",
        "    'min_samples_split': hp.quniform('min_samples_split', 2, 10, 2),\n",
        "    'min_samples_leaf': hp.quniform('min_samples_leaf', 1, 10, 2),\n",
        "    'bootstrap': hp.choice('bootstrap', [True, False])\n",
        "}\n",
        "\n",
        "# Целевая функция\n",
        "def objective(params):\n",
        "    params['n_estimators'] = int(params['n_estimators'])\n",
        "    params['max_depth'] = int(params['max_depth'])\n",
        "    params['min_samples_split'] = int(params['min_samples_split'])\n",
        "    params['min_samples_leaf'] = int(params['min_samples_leaf'])\n",
        "\n",
        "    clf = RandomForestClassifier(**params, random_state=42)\n",
        "    clf.fit(X_train, y_train)\n",
        "    preds = clf.predict(X_test)\n",
        "    acc = accuracy_score(y_test, preds)\n",
        "    return {'loss': -acc, 'status': STATUS_OK}\n",
        "\n",
        "# Поиск через TPE\n",
        "trials = Trials()\n",
        "start_time = time.time()\n",
        "best = fmin(\n",
        "    fn=objective,\n",
        "    space=space,\n",
        "    algo=tpe.suggest,\n",
        "    max_evals=50,\n",
        "    trials=trials,\n",
        "    rstate=np.random.default_rng(42)\n",
        ")\n",
        "end_time = time.time()\n",
        "\n",
        "# Расшифровка\n",
        "best['bootstrap'] = [True, False][best['bootstrap']]\n",
        "best = {k: int(v) if k != 'bootstrap' else v for k, v in best.items()}\n",
        "\n",
        "# Проверка точности\n",
        "clf = RandomForestClassifier(**best, random_state=42)\n",
        "clf.fit(X_train, y_train)\n",
        "preds = clf.predict(X_test)\n",
        "acc = accuracy_score(y_test, preds)\n",
        "time_tpe = end_time - start_time\n",
        "\n",
        "print(\"Hyperopt лучшие параметры:\", best)\n",
        "print(\"Hyperopt точность:\", acc)\n",
        "print(\"Время Hyperopt:\", time_tpe, \"сек\")\n"
      ],
      "metadata": {
        "colab": {
          "base_uri": "https://localhost:8080/"
        },
        "id": "8uqfaeJHbw9f",
        "outputId": "e21ba662-b074-4e41-8ee1-d618bbf570a9"
      },
      "execution_count": 5,
      "outputs": [
        {
          "output_type": "stream",
          "name": "stdout",
          "text": [
            "100%|██████████| 50/50 [00:13<00:00,  3.81trial/s, best loss: -0.7727272727272727]\n",
            "Hyperopt лучшие параметры: {'bootstrap': False, 'max_depth': 5, 'min_samples_leaf': 8, 'min_samples_split': 6, 'n_estimators': 100}\n",
            "Hyperopt точность: 0.7727272727272727\n",
            "Время Hyperopt: 13.25812554359436 сек\n"
          ]
        }
      ]
    },
    {
      "cell_type": "code",
      "source": [
        "print(\"\\n Сравнительная таблица:\")\n",
        "print(f\"RandomizedSearchCV: Точность = {best_score_random:.4f}, Время = {time_random:.2f} сек\")\n",
        "print(f\"Hyperopt TPE:        Точность = {acc:.4f}, Время = {time_tpe:.2f} сек\")\n"
      ],
      "metadata": {
        "colab": {
          "base_uri": "https://localhost:8080/"
        },
        "id": "_udeXFKKb1YC",
        "outputId": "fbd2abd5-f545-410c-b51f-7988361675d9"
      },
      "execution_count": 6,
      "outputs": [
        {
          "output_type": "stream",
          "name": "stdout",
          "text": [
            "\n",
            " Сравнительная таблица:\n",
            "RandomizedSearchCV: Точность = 0.7899, Время = 51.40 сек\n",
            "Hyperopt TPE:        Точность = 0.7727, Время = 13.26 сек\n"
          ]
        }
      ]
    }
  ]
}